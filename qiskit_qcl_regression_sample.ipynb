{
  "nbformat": 4,
  "nbformat_minor": 0,
  "metadata": {
    "colab": {
      "provenance": [],
      "collapsed_sections": [],
      "authorship_tag": "ABX9TyMOCEJLy69cvqv5WUbzume/",
      "include_colab_link": true
    },
    "kernelspec": {
      "name": "python3",
      "display_name": "Python 3"
    },
    "language_info": {
      "name": "python"
    }
  },
  "cells": [
    {
      "cell_type": "markdown",
      "metadata": {
        "id": "view-in-github",
        "colab_type": "text"
      },
      "source": [
        "<a href=\"https://colab.research.google.com/github/mkatouda/qmlsample/blob/master/qiskit_qcl_regression_sample.ipynb\" target=\"_parent\"><img src=\"https://colab.research.google.com/assets/colab-badge.svg\" alt=\"Open In Colab\"/></a>"
      ]
    },
    {
      "cell_type": "markdown",
      "source": [
        "# **Qiskitによる量子回路学習のサンプルコード: 関数の回帰問題**\n",
        "量子機械学習にパラメータ化された量子回路(PQC)を適用しNISQ量子コンピュータで実行可能としたことでブレークスルーとなった手法として，大阪大学の御手洗らにより開発された量子回路学習(Quantum Cirquit Learning: QCL)が挙げられる．\n",
        "本ノートブックでは，量子回路学習アルゴリズムをIBMの量子コンピューティングSDKであるQiskitを用いて実装した例を紹介する．量子回路学習アルゴリズムでは以下の手順で量子・古典ハイブリッド計算が行われる．2-4のプロセスは量子コンピュータで，1，5-6のプロセスは古典コンピュータでそれぞれ計算される．\n",
        "\n",
        "1.   学習データ{(xi, yi), xiは入力データのベクトル, yiは出力データの真の値(教師データ)}を用意する．\n",
        "2.   入力xを量子状態に埋め込む量子回路U_in(x) (特徴量マップとよぶ)を設定し，xiのデータを入力量子状態|ψ_in(xi)>=U_in(xi)|0>として埋め込む．\n",
        "3.   変分最適化により調整可能なパラメータを持つ量子回路U_out(θ)を設定し，入力量子状態に作用させ，出力量子業態|ψ_out(xi, θ)>= U_out(θ)|ψ_in(xi)>を得る．\n",
        "4.   出力量子状態に対し観測量の演算子を設定し，その観測量の測定値y(xi,θ)を得る．\n",
        "5.   真の値yiと測定値y(xi,θ)間の乖離を表すコスト関数L(θ)を設定し，その値を極小化する方向に向かうθの候補値に更新する．\n",
        "6.   3-5のプロセスを繰り返し，コスト関数L(θ)を最小化するパラメータθminを探索する．探索により得られたパラメータθminを用いたy(xi,θmin)を予測モデルとして採用する．\n"
      ],
      "metadata": {
        "id": "lSd_C02ywvKQ"
      }
    },
    {
      "cell_type": "markdown",
      "source": [
        "qiskitのインストール"
      ],
      "metadata": {
        "id": "fpE6DUM2wcA_"
      }
    },
    {
      "cell_type": "code",
      "execution_count": 1,
      "metadata": {
        "colab": {
          "base_uri": "https://localhost:8080/"
        },
        "id": "bcpIWniUu8vk",
        "outputId": "4a27952c-eda4-4b57-f76d-110fa996fb9d"
      },
      "outputs": [
        {
          "output_type": "stream",
          "name": "stdout",
          "text": [
            "Looking in indexes: https://pypi.org/simple, https://us-python.pkg.dev/colab-wheels/public/simple/\n",
            "Requirement already satisfied: qiskit in /usr/local/lib/python3.7/dist-packages (0.38.0)\n",
            "Requirement already satisfied: qiskit-aer==0.11.0 in /usr/local/lib/python3.7/dist-packages (from qiskit) (0.11.0)\n",
            "Requirement already satisfied: qiskit-terra==0.21.2 in /usr/local/lib/python3.7/dist-packages (from qiskit) (0.21.2)\n",
            "Requirement already satisfied: qiskit-ibmq-provider==0.19.2 in /usr/local/lib/python3.7/dist-packages (from qiskit) (0.19.2)\n",
            "Requirement already satisfied: numpy>=1.16.3 in /usr/local/lib/python3.7/dist-packages (from qiskit-aer==0.11.0->qiskit) (1.21.6)\n",
            "Requirement already satisfied: scipy>=1.0 in /usr/local/lib/python3.7/dist-packages (from qiskit-aer==0.11.0->qiskit) (1.7.3)\n",
            "Requirement already satisfied: python-dateutil>=2.8.0 in /usr/local/lib/python3.7/dist-packages (from qiskit-ibmq-provider==0.19.2->qiskit) (2.8.2)\n",
            "Requirement already satisfied: websockets>=10.0 in /usr/local/lib/python3.7/dist-packages (from qiskit-ibmq-provider==0.19.2->qiskit) (10.3)\n",
            "Requirement already satisfied: requests>=2.19 in /usr/local/lib/python3.7/dist-packages (from qiskit-ibmq-provider==0.19.2->qiskit) (2.23.0)\n",
            "Requirement already satisfied: urllib3>=1.21.1 in /usr/local/lib/python3.7/dist-packages (from qiskit-ibmq-provider==0.19.2->qiskit) (1.24.3)\n",
            "Requirement already satisfied: requests-ntlm>=1.1.0 in /usr/local/lib/python3.7/dist-packages (from qiskit-ibmq-provider==0.19.2->qiskit) (1.1.0)\n",
            "Requirement already satisfied: websocket-client>=1.0.1 in /usr/local/lib/python3.7/dist-packages (from qiskit-ibmq-provider==0.19.2->qiskit) (1.4.1)\n",
            "Requirement already satisfied: stevedore>=3.0.0 in /usr/local/lib/python3.7/dist-packages (from qiskit-terra==0.21.2->qiskit) (3.5.0)\n",
            "Requirement already satisfied: dill>=0.3 in /usr/local/lib/python3.7/dist-packages (from qiskit-terra==0.21.2->qiskit) (0.3.5.1)\n",
            "Requirement already satisfied: typing-extensions in /usr/local/lib/python3.7/dist-packages (from qiskit-terra==0.21.2->qiskit) (4.1.1)\n",
            "Requirement already satisfied: ply>=3.10 in /usr/local/lib/python3.7/dist-packages (from qiskit-terra==0.21.2->qiskit) (3.11)\n",
            "Requirement already satisfied: sympy>=1.3 in /usr/local/lib/python3.7/dist-packages (from qiskit-terra==0.21.2->qiskit) (1.7.1)\n",
            "Requirement already satisfied: retworkx>=0.11.0 in /usr/local/lib/python3.7/dist-packages (from qiskit-terra==0.21.2->qiskit) (0.12.0)\n",
            "Requirement already satisfied: tweedledum<2.0,>=1.1 in /usr/local/lib/python3.7/dist-packages (from qiskit-terra==0.21.2->qiskit) (1.1.1)\n",
            "Requirement already satisfied: psutil>=5 in /usr/local/lib/python3.7/dist-packages (from qiskit-terra==0.21.2->qiskit) (5.4.8)\n",
            "Requirement already satisfied: symengine>=0.9 in /usr/local/lib/python3.7/dist-packages (from qiskit-terra==0.21.2->qiskit) (0.9.2)\n",
            "Requirement already satisfied: shared-memory38 in /usr/local/lib/python3.7/dist-packages (from qiskit-terra==0.21.2->qiskit) (0.1.2)\n",
            "Requirement already satisfied: six>=1.5 in /usr/local/lib/python3.7/dist-packages (from python-dateutil>=2.8.0->qiskit-ibmq-provider==0.19.2->qiskit) (1.15.0)\n",
            "Requirement already satisfied: certifi>=2017.4.17 in /usr/local/lib/python3.7/dist-packages (from requests>=2.19->qiskit-ibmq-provider==0.19.2->qiskit) (2022.9.24)\n",
            "Requirement already satisfied: chardet<4,>=3.0.2 in /usr/local/lib/python3.7/dist-packages (from requests>=2.19->qiskit-ibmq-provider==0.19.2->qiskit) (3.0.4)\n",
            "Requirement already satisfied: idna<3,>=2.5 in /usr/local/lib/python3.7/dist-packages (from requests>=2.19->qiskit-ibmq-provider==0.19.2->qiskit) (2.10)\n",
            "Requirement already satisfied: ntlm-auth>=1.0.2 in /usr/local/lib/python3.7/dist-packages (from requests-ntlm>=1.1.0->qiskit-ibmq-provider==0.19.2->qiskit) (1.5.0)\n",
            "Requirement already satisfied: cryptography>=1.3 in /usr/local/lib/python3.7/dist-packages (from requests-ntlm>=1.1.0->qiskit-ibmq-provider==0.19.2->qiskit) (38.0.1)\n",
            "Requirement already satisfied: cffi>=1.12 in /usr/local/lib/python3.7/dist-packages (from cryptography>=1.3->requests-ntlm>=1.1.0->qiskit-ibmq-provider==0.19.2->qiskit) (1.15.1)\n",
            "Requirement already satisfied: pycparser in /usr/local/lib/python3.7/dist-packages (from cffi>=1.12->cryptography>=1.3->requests-ntlm>=1.1.0->qiskit-ibmq-provider==0.19.2->qiskit) (2.21)\n",
            "Requirement already satisfied: rustworkx==0.12.0 in /usr/local/lib/python3.7/dist-packages (from retworkx>=0.11.0->qiskit-terra==0.21.2->qiskit) (0.12.0)\n",
            "Requirement already satisfied: importlib-metadata>=1.7.0 in /usr/local/lib/python3.7/dist-packages (from stevedore>=3.0.0->qiskit-terra==0.21.2->qiskit) (5.0.0)\n",
            "Requirement already satisfied: pbr!=2.1.0,>=2.0.0 in /usr/local/lib/python3.7/dist-packages (from stevedore>=3.0.0->qiskit-terra==0.21.2->qiskit) (5.10.0)\n",
            "Requirement already satisfied: zipp>=0.5 in /usr/local/lib/python3.7/dist-packages (from importlib-metadata>=1.7.0->stevedore>=3.0.0->qiskit-terra==0.21.2->qiskit) (3.8.1)\n",
            "Requirement already satisfied: mpmath>=0.19 in /usr/local/lib/python3.7/dist-packages (from sympy>=1.3->qiskit-terra==0.21.2->qiskit) (1.2.1)\n"
          ]
        }
      ],
      "source": [
        "!pip install qiskit"
      ]
    },
    {
      "cell_type": "markdown",
      "source": [
        "必要なモジュールをインポート"
      ],
      "metadata": {
        "id": "KAkUz2xvwSOz"
      }
    },
    {
      "cell_type": "code",
      "source": [
        "%matplotlib inline\n",
        "import numpy as np\n",
        "import matplotlib.pyplot as plt\n",
        "\n",
        "from qiskit import QuantumCircuit, ClassicalRegister, QuantumRegister, Aer, transpile\n",
        "from qiskit.algorithms.optimizers import COBYLA"
      ],
      "metadata": {
        "id": "SFEqvIzavGyU"
      },
      "execution_count": 2,
      "outputs": []
    },
    {
      "cell_type": "markdown",
      "source": [
        "QCLモデルの入力パラメータの設定\n"
      ],
      "metadata": {
        "id": "8NmUW0iewZ9q"
      }
    },
    {
      "cell_type": "code",
      "source": [
        "########  パラメータ  #############\n",
        "# 乱数のシード\n",
        "random_seed = 0\n",
        "# 乱数発生器の初期化\n",
        "np.random.seed(random_seed)\n",
        "\n",
        "# Qubit数，回路の深さ，期待値の増幅係数\n",
        "nqubit = 2\n",
        "c_depth = 5\n",
        "Mfac = 2.0\n",
        "\n",
        "# 量子シミュレータの設定\n",
        "num_shots = 8192\n",
        "\n",
        "# パラメータオプティマイザの設定\n",
        "maxiter = 100\n",
        "tol = 0.05"
      ],
      "metadata": {
        "id": "E4aMSSUTvayP"
      },
      "execution_count": 3,
      "outputs": []
    },
    {
      "cell_type": "markdown",
      "source": [
        "回帰するデータの設定"
      ],
      "metadata": {
        "id": "4Ho_LutylBc7"
      }
    },
    {
      "cell_type": "code",
      "source": [
        "########  学習データ  #############\n",
        "# 回帰する関数の定義\n",
        "#func_to_learn = lambda x: x**3\n",
        "func_to_learn = lambda x: np.sin(x*np.pi)\n",
        "\n",
        "# 回帰データの設定\n",
        "x_min = -1.; x_max = 1.; num_x_train = 100\n",
        "x_train = x_min + (x_max - x_min) * np.random.rand(num_x_train)\n",
        "y_train = func_to_learn(x_train)\n",
        "\n",
        "x_pred = np.arange(x_min, x_max, 0.02)\n",
        "y_pred = func_to_learn(x_pred)\n",
        "\n",
        "# 関数に正規分布ノイズを付加\n",
        "mag_noise = 0.05\n",
        "y_train += mag_noise * np.random.randn(num_x_train)"
      ],
      "metadata": {
        "id": "vIaHAWFik6PI"
      },
      "execution_count": 4,
      "outputs": []
    },
    {
      "cell_type": "markdown",
      "source": [
        "回帰データの可視化"
      ],
      "metadata": {
        "id": "3mDi6DCPB_gB"
      }
    },
    {
      "cell_type": "code",
      "source": [
        "fig = plt.figure()\n",
        "plt.plot(x_train, y_train, \"o\", label='Training Data (with Noise)')\n",
        "plt.plot(x_pred, y_pred, label='Original Function')\n",
        "plt.legend()\n",
        "plt.show()\n",
        "#plt.savefig('./inputdata-plot.png')"
      ],
      "metadata": {
        "colab": {
          "base_uri": "https://localhost:8080/",
          "height": 265
        },
        "id": "R52wIDSj0l7e",
        "outputId": "89fddc9b-4ca0-48a4-a1ee-47473d88ba3d"
      },
      "execution_count": 5,
      "outputs": [
        {
          "output_type": "display_data",
          "data": {
            "text/plain": [
              "<Figure size 432x288 with 1 Axes>"
            ],
            "image/png": "[encoded data removed]"
          },
          "metadata": {
            "needs_background": "light"
          }
        }
      ]
    },
    {
      "cell_type": "markdown",
      "source": [
        "入力回路U_in(x)の設定\n"
      ],
      "metadata": {
        "id": "3vsZ1jcBzuDs"
      }
    },
    {
      "cell_type": "code",
      "source": [
        "def U_in(x, nqubit):\n",
        "    qr = QuantumRegister(nqubit)\n",
        "    U = QuantumCircuit(qr)\n",
        "\n",
        "    for j in range(2):\n",
        "        for i in range(nqubit):\n",
        "            U.ry(x, i)\n",
        "            U.rz(x, i)\n",
        "        for i in range(nqubit-1):\n",
        "            U.cz(i, i+1)\n",
        "        if nqubit >=3: U.cz(nqubit-1, 0)\n",
        "\n",
        "    U.name = \"U_in\"\n",
        "    return U\n",
        "\n",
        "U_in(x_train[0], nqubit).draw()"
      ],
      "metadata": {
        "colab": {
          "base_uri": "https://localhost:8080/",
          "height": 94
        },
        "id": "v7FOfLlYvjnM",
        "outputId": "178b83e3-4afd-452f-833e-0003b3ed3552"
      },
      "execution_count": 6,
      "outputs": [
        {
          "output_type": "execute_result",
          "data": {
            "text/plain": [
              "      ┌──────────────┐┌──────────────┐   ┌──────────────┐┌──────────────┐   \n",
              "q0_0: ┤ Ry(0.097627) ├┤ Rz(0.097627) ├─■─┤ Ry(0.097627) ├┤ Rz(0.097627) ├─■─\n",
              "      ├──────────────┤├──────────────┤ │ ├──────────────┤├──────────────┤ │ \n",
              "q0_1: ┤ Ry(0.097627) ├┤ Rz(0.097627) ├─■─┤ Ry(0.097627) ├┤ Rz(0.097627) ├─■─\n",
              "      └──────────────┘└──────────────┘   └──────────────┘└──────────────┘   "
            ],
            "text/html": [
              "<pre style=\"word-wrap: normal;white-space: pre;background: #fff0;line-height: 1.1;font-family: &quot;Courier New&quot;,Courier,monospace\">      ┌──────────────┐┌──────────────┐   ┌──────────────┐┌──────────────┐   \n",
              "q0_0: ┤ Ry(0.097627) ├┤ Rz(0.097627) ├─■─┤ Ry(0.097627) ├┤ Rz(0.097627) ├─■─\n",
              "      ├──────────────┤├──────────────┤ │ ├──────────────┤├──────────────┤ │ \n",
              "q0_1: ┤ Ry(0.097627) ├┤ Rz(0.097627) ├─■─┤ Ry(0.097627) ├┤ Rz(0.097627) ├─■─\n",
              "      └──────────────┘└──────────────┘   └──────────────┘└──────────────┘   </pre>"
            ]
          },
          "metadata": {},
          "execution_count": 6
        }
      ]
    },
    {
      "cell_type": "markdown",
      "source": [
        "出力回路U_out(θ)の設定"
      ],
      "metadata": {
        "id": "LaV8ltB0vo-p"
      }
    },
    {
      "cell_type": "code",
      "source": [
        "def U_out(nqubit, c_depth, params):\n",
        "    qr = QuantumRegister(nqubit)\n",
        "    U = QuantumCircuit(qr)\n",
        "\n",
        "    for d in range(c_depth):\n",
        "        for i in range(nqubit-1):\n",
        "            U.cz(i, i+1)\n",
        "        if nqubit >=3: U.cz(nqubit-1, 0)\n",
        "        for i in range(nqubit):\n",
        "            U.rx(params[nqubit*3*d+3*i], i)\n",
        "            U.rz(params[nqubit*3*d+3*i+1], i)\n",
        "            U.rx(params[nqubit*3*d+3*i+2], i)\n",
        "\n",
        "    U.name = \"U_out\"\n",
        "    return U"
      ],
      "metadata": {
        "id": "l_WaSr23z4GL"
      },
      "execution_count": 7,
      "outputs": []
    },
    {
      "cell_type": "markdown",
      "source": [
        "量子回路学習モデルの設定"
      ],
      "metadata": {
        "id": "6Q0DoEW2-RZ5"
      }
    },
    {
      "cell_type": "code",
      "source": [
        "def pred_circ(x, nqubit, c_depth, params):\n",
        "    qr = QuantumRegister(nqubit, name='q')\n",
        "    cr = ClassicalRegister(1, name='c')\n",
        "    qc = QuantumCircuit(qr, cr)\n",
        "    u_in = U_in(x, nqubit).to_instruction()\n",
        "    u_out = U_out(nqubit, c_depth, params).to_instruction()\n",
        "    qc.append(u_in, qr)\n",
        "    qc.append(u_out, qr)\n",
        "    qc.measure(0, 0)\n",
        "\n",
        "    return qc\n",
        "\n",
        "def get_expval(qc, Mfac, backend, num_shots):\n",
        "    qc = transpile(qc, backend=backend)\n",
        "    result = backend.run(qc, shots=num_shots).result()\n",
        "    counts = result.get_counts(qc)\n",
        "    exp_mZ = Mfac * (counts['0'] - counts['1']) / num_shots\n",
        "\n",
        "    return exp_mZ\n",
        "\n",
        "def qcl_reg(x_pred, nqubit, c_depth, params, Mfac, backend, num_shots):\n",
        "    y_pred = []\n",
        "    for x in x_pred:\n",
        "        qc = pred_circ(x, nqubit, c_depth, params)\n",
        "        y_pred.append(get_expval(qc, Mfac, backend, num_shots))\n",
        "\n",
        "    return np.array(y_pred)"
      ],
      "metadata": {
        "id": "MCSeyJlB3dSZ"
      },
      "execution_count": 8,
      "outputs": []
    },
    {
      "cell_type": "markdown",
      "source": [
        "出力回路U_out(θ)の変分回路パラメータθの初期化"
      ],
      "metadata": {
        "id": "wWE171DO-UFw"
      }
    },
    {
      "cell_type": "code",
      "source": [
        "num_vars = 3 * nqubit * c_depth\n",
        "params = np.random.rand(num_vars) * 2 * np.pi\n",
        "print('initial params', params)\n",
        "U_out(nqubit, c_depth, params).draw()\n",
        "pred_circ(x_train[0], nqubit, c_depth, params).decompose().draw()"
      ],
      "metadata": {
        "colab": {
          "base_uri": "https://localhost:8080/",
          "height": 646
        },
        "id": "YzyS7nBU1ZNd",
        "outputId": "e9b9bd1b-4709-44b5-d1c6-3fc2aa76e1aa"
      },
      "execution_count": 9,
      "outputs": [
        {
          "output_type": "stream",
          "name": "stdout",
          "text": [
            "initial params [1.30357293 2.6683775  2.35097932 2.9127303  1.74439261 3.68687478\n",
            " 5.42776485 0.73847443 3.2507888  0.82980839 4.50416222 2.48851651\n",
            " 3.55264688 1.15158117 0.91010531 3.06654805 2.23438073 5.90890818\n",
            " 4.80868039 4.70399226 5.67823859 0.52415862 3.46952761 3.67237145\n",
            " 6.04402452 1.83561705 1.51317185 0.63016542 0.10323041 5.84040495]\n"
          ]
        },
        {
          "output_type": "execute_result",
          "data": {
            "text/plain": [
              "     ┌──────────────┐┌──────────────┐   ┌──────────────┐┌──────────────┐      »\n",
              "q_0: ┤ Ry(0.097627) ├┤ Rz(0.097627) ├─■─┤ Ry(0.097627) ├┤ Rz(0.097627) ├─■──■─»\n",
              "     ├──────────────┤├──────────────┤ │ ├──────────────┤├──────────────┤ │  │ »\n",
              "q_1: ┤ Ry(0.097627) ├┤ Rz(0.097627) ├─■─┤ Ry(0.097627) ├┤ Rz(0.097627) ├─■──■─»\n",
              "     └──────────────┘└──────────────┘   └──────────────┘└──────────────┘      »\n",
              "c: 1/═════════════════════════════════════════════════════════════════════════»\n",
              "                                                                              »\n",
              "«     ┌────────────┐┌────────────┐┌───────────┐     ┌────────────┐»\n",
              "«q_0: ┤ Rx(1.3036) ├┤ Rz(2.6684) ├┤ Rx(2.351) ├──■──┤ Rx(5.4278) ├»\n",
              "«     ├────────────┤├────────────┤├───────────┴┐ │ ┌┴────────────┤»\n",
              "«q_1: ┤ Rx(2.9127) ├┤ Rz(1.7444) ├┤ Rx(3.6869) ├─■─┤ Rx(0.82981) ├»\n",
              "«     └────────────┘└────────────┘└────────────┘   └─────────────┘»\n",
              "«c: 1/════════════════════════════════════════════════════════════»\n",
              "«                                                                 »\n",
              "«     ┌─────────────┐┌────────────┐   ┌────────────┐┌────────────┐»\n",
              "«q_0: ┤ Rz(0.73847) ├┤ Rx(3.2508) ├─■─┤ Rx(3.5526) ├┤ Rz(1.1516) ├»\n",
              "«     └┬────────────┤├────────────┤ │ ├────────────┤├────────────┤»\n",
              "«q_1: ─┤ Rz(4.5042) ├┤ Rx(2.4885) ├─■─┤ Rx(3.0665) ├┤ Rz(2.2344) ├»\n",
              "«      └────────────┘└────────────┘   └────────────┘└────────────┘»\n",
              "«c: 1/════════════════════════════════════════════════════════════»\n",
              "«                                                                 »\n",
              "«     ┌─────────────┐    ┌────────────┐┌───────────┐ ┌────────────┐   »\n",
              "«q_0: ┤ Rx(0.91011) ├─■──┤ Rx(4.8087) ├┤ Rz(4.704) ├─┤ Rx(5.6782) ├─■─»\n",
              "«     └┬────────────┤ │ ┌┴────────────┤├───────────┴┐├────────────┤ │ »\n",
              "«q_1: ─┤ Rx(5.9089) ├─■─┤ Rx(0.52416) ├┤ Rz(3.4695) ├┤ Rx(3.6724) ├─■─»\n",
              "«      └────────────┘   └─────────────┘└────────────┘└────────────┘   »\n",
              "«c: 1/════════════════════════════════════════════════════════════════»\n",
              "«                                                                     »\n",
              "«      ┌───────────┐  ┌────────────┐┌────────────┐┌─┐\n",
              "«q_0: ─┤ Rx(6.044) ├──┤ Rz(1.8356) ├┤ Rx(1.5132) ├┤M├\n",
              "«     ┌┴───────────┴┐┌┴────────────┤├────────────┤└╥┘\n",
              "«q_1: ┤ Rx(0.63017) ├┤ Rz(0.10323) ├┤ Rx(5.8404) ├─╫─\n",
              "«     └─────────────┘└─────────────┘└────────────┘ ║ \n",
              "«c: 1/═════════════════════════════════════════════╩═\n",
              "«                                                  0 "
            ],
            "text/html": [
              "<pre style=\"word-wrap: normal;white-space: pre;background: #fff0;line-height: 1.1;font-family: &quot;Courier New&quot;,Courier,monospace\">     ┌──────────────┐┌──────────────┐   ┌──────────────┐┌──────────────┐      »\n",
              "q_0: ┤ Ry(0.097627) ├┤ Rz(0.097627) ├─■─┤ Ry(0.097627) ├┤ Rz(0.097627) ├─■──■─»\n",
              "     ├──────────────┤├──────────────┤ │ ├──────────────┤├──────────────┤ │  │ »\n",
              "q_1: ┤ Ry(0.097627) ├┤ Rz(0.097627) ├─■─┤ Ry(0.097627) ├┤ Rz(0.097627) ├─■──■─»\n",
              "     └──────────────┘└──────────────┘   └──────────────┘└──────────────┘      »\n",
              "c: 1/═════════════════════════════════════════════════════════════════════════»\n",
              "                                                                              »\n",
              "«     ┌────────────┐┌────────────┐┌───────────┐     ┌────────────┐»\n",
              "«q_0: ┤ Rx(1.3036) ├┤ Rz(2.6684) ├┤ Rx(2.351) ├──■──┤ Rx(5.4278) ├»\n",
              "«     ├────────────┤├────────────┤├───────────┴┐ │ ┌┴────────────┤»\n",
              "«q_1: ┤ Rx(2.9127) ├┤ Rz(1.7444) ├┤ Rx(3.6869) ├─■─┤ Rx(0.82981) ├»\n",
              "«     └────────────┘└────────────┘└────────────┘   └─────────────┘»\n",
              "«c: 1/════════════════════════════════════════════════════════════»\n",
              "«                                                                 »\n",
              "«     ┌─────────────┐┌────────────┐   ┌────────────┐┌────────────┐»\n",
              "«q_0: ┤ Rz(0.73847) ├┤ Rx(3.2508) ├─■─┤ Rx(3.5526) ├┤ Rz(1.1516) ├»\n",
              "«     └┬────────────┤├────────────┤ │ ├────────────┤├────────────┤»\n",
              "«q_1: ─┤ Rz(4.5042) ├┤ Rx(2.4885) ├─■─┤ Rx(3.0665) ├┤ Rz(2.2344) ├»\n",
              "«      └────────────┘└────────────┘   └────────────┘└────────────┘»\n",
              "«c: 1/════════════════════════════════════════════════════════════»\n",
              "«                                                                 »\n",
              "«     ┌─────────────┐    ┌────────────┐┌───────────┐ ┌────────────┐   »\n",
              "«q_0: ┤ Rx(0.91011) ├─■──┤ Rx(4.8087) ├┤ Rz(4.704) ├─┤ Rx(5.6782) ├─■─»\n",
              "«     └┬────────────┤ │ ┌┴────────────┤├───────────┴┐├────────────┤ │ »\n",
              "«q_1: ─┤ Rx(5.9089) ├─■─┤ Rx(0.52416) ├┤ Rz(3.4695) ├┤ Rx(3.6724) ├─■─»\n",
              "«      └────────────┘   └─────────────┘└────────────┘└────────────┘   »\n",
              "«c: 1/════════════════════════════════════════════════════════════════»\n",
              "«                                                                     »\n",
              "«      ┌───────────┐  ┌────────────┐┌────────────┐┌─┐\n",
              "«q_0: ─┤ Rx(6.044) ├──┤ Rz(1.8356) ├┤ Rx(1.5132) ├┤M├\n",
              "«     ┌┴───────────┴┐┌┴────────────┤├────────────┤└╥┘\n",
              "«q_1: ┤ Rx(0.63017) ├┤ Rz(0.10323) ├┤ Rx(5.8404) ├─╫─\n",
              "«     └─────────────┘└─────────────┘└────────────┘ ║ \n",
              "«c: 1/═════════════════════════════════════════════╩═\n",
              "«                                                  0 </pre>"
            ]
          },
          "metadata": {},
          "execution_count": 9
        }
      ]
    },
    {
      "cell_type": "markdown",
      "source": [
        "初期化した変分回路パラメータθを用いた回帰計算実行"
      ],
      "metadata": {
        "id": "nQrLsMK1_qgj"
      }
    },
    {
      "cell_type": "code",
      "source": [
        "backend = Aer.get_backend(\"qasm_simulator\")\n",
        "y_pred_reg_init = qcl_reg(x_pred, nqubit, c_depth, params, Mfac, backend, num_shots)\n",
        "print('y_pred_reg_init:', y_pred_reg_init)"
      ],
      "metadata": {
        "colab": {
          "base_uri": "https://localhost:8080/"
        },
        "id": "6v3eJ9n5_j_D",
        "outputId": "04ff6c45-5860-4f8b-81bf-9d8a0e8ead21"
      },
      "execution_count": 10,
      "outputs": [
        {
          "output_type": "stream",
          "name": "stdout",
          "text": [
            "y_pred_reg_init: [-1.93896484 -1.89257812 -1.86181641 -1.80273438 -1.74755859 -1.66845703\n",
            " -1.6015625  -1.51464844 -1.42285156 -1.33642578 -1.21484375 -1.10839844\n",
            " -1.01074219 -0.89648438 -0.77539062 -0.67578125 -0.59326172 -0.48193359\n",
            " -0.38330078 -0.25       -0.17480469 -0.07763672  0.06640625  0.13818359\n",
            "  0.21777344  0.36425781  0.35546875  0.45214844  0.53222656  0.56982422\n",
            "  0.64550781  0.67773438  0.70947266  0.75732422  0.82763672  0.81152344\n",
            "  0.86572266  0.84765625  0.83886719  0.85400391  0.84814453  0.8046875\n",
            "  0.76953125  0.79248047  0.75878906  0.71240234  0.67285156  0.60888672\n",
            "  0.56835938  0.53955078  0.45458984  0.41113281  0.36816406  0.30273438\n",
            "  0.23876953  0.17871094  0.09375     0.09082031  0.05517578 -0.02978516\n",
            " -0.08496094 -0.10986328 -0.16015625 -0.18505859 -0.30908203 -0.31640625\n",
            " -0.30615234 -0.39257812 -0.41748047 -0.42236328 -0.42626953 -0.43994141\n",
            " -0.48876953 -0.484375   -0.48193359 -0.48632812 -0.49804688 -0.46972656\n",
            " -0.43261719 -0.45849609 -0.40869141 -0.35205078 -0.3359375  -0.30761719\n",
            " -0.34033203 -0.23583984 -0.23486328 -0.19238281 -0.15185547 -0.13330078\n",
            " -0.06347656 -0.04443359  0.02832031  0.05273438  0.05810547  0.08007812\n",
            "  0.12597656  0.21191406  0.22021484  0.18652344]\n"
          ]
        }
      ]
    },
    {
      "cell_type": "markdown",
      "source": [
        "変分回路パラメータ学習用のコスト関数の設定"
      ],
      "metadata": {
        "id": "uEyWj0SI_4-L"
      }
    },
    {
      "cell_type": "code",
      "source": [
        "def cost_function(params):\n",
        "    global iter\n",
        "    cost_total = 0.0\n",
        "    for i in range(len(x_train)):\n",
        "        qc = pred_circ(x_train[i], nqubit, c_depth, params)\n",
        "        cost = (y_train[i] - get_expval(qc, Mfac, backend, num_shots))**2\n",
        "        cost_total += cost\n",
        "\n",
        "    print('Iter: %d, Cost: %f' % (iter, cost_total))\n",
        "    costs.append(cost_total)\n",
        "    iter += 1\n",
        "\n",
        "    return cost_total"
      ],
      "metadata": {
        "id": "9ODJOIHX_yav"
      },
      "execution_count": 11,
      "outputs": []
    },
    {
      "cell_type": "markdown",
      "source": [
        "変分回路パラメータ学習実行：回路パラメータの最適化アルゴリズムにはCOBYLA法を使用"
      ],
      "metadata": {
        "id": "g7iaOBHlAciA"
      }
    },
    {
      "cell_type": "code",
      "source": [
        "backend = Aer.get_backend(\"qasm_simulator\")\n",
        "iter = 0; costs = []\n",
        "optimizer = COBYLA(maxiter=maxiter, tol=tol)\n",
        "result = optimizer.minimize(cost_function, params)"
      ],
      "metadata": {
        "colab": {
          "base_uri": "https://localhost:8080/"
        },
        "id": "syhIbYwDAc74",
        "outputId": "3fa70417-caab-450e-d24a-db7f061a7a5f"
      },
      "execution_count": 12,
      "outputs": [
        {
          "output_type": "stream",
          "name": "stdout",
          "text": [
            "Iter: 0, Cost: 111.606786\n",
            "Iter: 1, Cost: 86.612442\n",
            "Iter: 2, Cost: 77.791170\n",
            "Iter: 3, Cost: 79.656052\n",
            "Iter: 4, Cost: 48.771569\n",
            "Iter: 5, Cost: 37.814612\n",
            "Iter: 6, Cost: 24.888576\n",
            "Iter: 7, Cost: 103.165394\n",
            "Iter: 8, Cost: 40.663625\n",
            "Iter: 9, Cost: 36.141257\n",
            "Iter: 10, Cost: 48.729846\n",
            "Iter: 11, Cost: 49.575821\n",
            "Iter: 12, Cost: 96.480159\n",
            "Iter: 13, Cost: 56.226336\n",
            "Iter: 14, Cost: 13.182682\n",
            "Iter: 15, Cost: 121.793533\n",
            "Iter: 16, Cost: 43.259189\n",
            "Iter: 17, Cost: 12.285425\n",
            "Iter: 18, Cost: 48.642552\n",
            "Iter: 19, Cost: 114.544849\n",
            "Iter: 20, Cost: 3.760387\n",
            "Iter: 21, Cost: 15.589743\n",
            "Iter: 22, Cost: 122.941664\n",
            "Iter: 23, Cost: 26.942686\n",
            "Iter: 24, Cost: 93.894705\n",
            "Iter: 25, Cost: 6.995277\n",
            "Iter: 26, Cost: 70.221207\n",
            "Iter: 27, Cost: 52.482300\n",
            "Iter: 28, Cost: 3.845563\n",
            "Iter: 29, Cost: 3.831873\n",
            "Iter: 30, Cost: 3.729355\n",
            "Iter: 31, Cost: 61.654834\n",
            "Iter: 32, Cost: 2.021111\n",
            "Iter: 33, Cost: 5.577134\n",
            "Iter: 34, Cost: 16.542326\n",
            "Iter: 35, Cost: 61.388136\n",
            "Iter: 36, Cost: 18.270557\n",
            "Iter: 37, Cost: 8.553294\n",
            "Iter: 38, Cost: 5.978341\n",
            "Iter: 39, Cost: 8.374705\n",
            "Iter: 40, Cost: 10.200378\n",
            "Iter: 41, Cost: 95.086632\n",
            "Iter: 42, Cost: 2.660164\n",
            "Iter: 43, Cost: 77.078998\n",
            "Iter: 44, Cost: 22.129216\n",
            "Iter: 45, Cost: 3.918130\n",
            "Iter: 46, Cost: 5.989475\n",
            "Iter: 47, Cost: 6.970044\n",
            "Iter: 48, Cost: 3.001143\n",
            "Iter: 49, Cost: 2.383772\n",
            "Iter: 50, Cost: 5.437947\n",
            "Iter: 51, Cost: 2.719941\n",
            "Iter: 52, Cost: 3.213862\n",
            "Iter: 53, Cost: 1.952567\n",
            "Iter: 54, Cost: 46.197523\n",
            "Iter: 55, Cost: 2.759048\n",
            "Iter: 56, Cost: 28.094376\n",
            "Iter: 57, Cost: 4.093793\n",
            "Iter: 58, Cost: 29.276083\n",
            "Iter: 59, Cost: 2.070485\n",
            "Iter: 60, Cost: 23.362824\n",
            "Iter: 61, Cost: 1.978827\n",
            "Iter: 62, Cost: 9.380198\n",
            "Iter: 63, Cost: 2.746065\n",
            "Iter: 64, Cost: 11.585160\n",
            "Iter: 65, Cost: 7.579731\n",
            "Iter: 66, Cost: 2.258156\n",
            "Iter: 67, Cost: 5.041676\n",
            "Iter: 68, Cost: 2.896508\n",
            "Iter: 69, Cost: 5.157863\n",
            "Iter: 70, Cost: 2.905707\n",
            "Iter: 71, Cost: 5.933061\n",
            "Iter: 72, Cost: 1.870816\n",
            "Iter: 73, Cost: 6.045108\n",
            "Iter: 74, Cost: 1.798146\n",
            "Iter: 75, Cost: 3.801839\n",
            "Iter: 76, Cost: 1.931384\n",
            "Iter: 77, Cost: 3.846641\n",
            "Iter: 78, Cost: 2.344222\n",
            "Iter: 79, Cost: 1.474123\n",
            "Iter: 80, Cost: 2.421271\n",
            "Iter: 81, Cost: 3.206895\n",
            "Iter: 82, Cost: 2.046799\n",
            "Iter: 83, Cost: 19.571660\n",
            "Iter: 84, Cost: 3.581305\n",
            "Iter: 85, Cost: 7.168732\n",
            "Iter: 86, Cost: 2.020140\n",
            "Iter: 87, Cost: 9.179730\n",
            "Iter: 88, Cost: 2.073919\n",
            "Iter: 89, Cost: 4.713310\n",
            "Iter: 90, Cost: 3.385506\n",
            "Iter: 91, Cost: 1.575713\n",
            "Iter: 92, Cost: 2.457634\n",
            "Iter: 93, Cost: 1.565043\n",
            "Iter: 94, Cost: 3.096343\n",
            "Iter: 95, Cost: 1.813325\n",
            "Iter: 96, Cost: 2.579754\n",
            "Iter: 97, Cost: 1.847549\n",
            "Iter: 98, Cost: 2.175615\n",
            "Iter: 99, Cost: 1.563201\n"
          ]
        }
      ]
    },
    {
      "cell_type": "markdown",
      "source": [
        "学習結果の表示"
      ],
      "metadata": {
        "id": "ypSmpD5HCOzw"
      }
    },
    {
      "cell_type": "code",
      "source": [
        "params = result.x\n",
        "y_pred_reg_final = qcl_reg(x_pred, nqubit, c_depth, params, Mfac, backend, num_shots)\n",
        "print('y_pred_reg_final:', y_pred_reg_final)"
      ],
      "metadata": {
        "colab": {
          "base_uri": "https://localhost:8080/"
        },
        "id": "DLJoTd-QA7Rj",
        "outputId": "befede71-2786-43b2-f987-1efe8fd4df3a"
      },
      "execution_count": 14,
      "outputs": [
        {
          "output_type": "stream",
          "name": "stdout",
          "text": [
            "y_pred_reg_final: [-0.20605469 -0.26611328 -0.29101562 -0.36181641 -0.40820312 -0.46875\n",
            " -0.54248047 -0.54736328 -0.62597656 -0.64111328 -0.68066406 -0.72119141\n",
            " -0.765625   -0.79833984 -0.81298828 -0.83154297 -0.82568359 -0.85058594\n",
            " -0.90722656 -0.85351562 -0.90771484 -0.9140625  -0.89794922 -0.87255859\n",
            " -0.88671875 -0.8671875  -0.86083984 -0.87011719 -0.84912109 -0.82714844\n",
            " -0.83154297 -0.84765625 -0.77587891 -0.76904297 -0.80078125 -0.74072266\n",
            " -0.67382812 -0.6640625  -0.65673828 -0.56640625 -0.55224609 -0.49023438\n",
            " -0.47558594 -0.41162109 -0.38867188 -0.37841797 -0.31103516 -0.23681641\n",
            " -0.20019531 -0.14355469 -0.09765625  0.00732422 -0.01611328  0.06396484\n",
            "  0.17236328  0.26757812  0.23242188  0.31933594  0.35644531  0.41503906\n",
            "  0.50195312  0.57226562  0.58886719  0.63671875  0.6953125   0.78027344\n",
            "  0.80908203  0.83837891  0.92285156  0.9453125   0.99414062  1.04541016\n",
            "  1.07373047  1.08447266  1.08984375  1.1171875   1.15771484  1.11132812\n",
            "  1.15234375  1.13476562  1.12792969  1.09960938  1.13476562  1.09667969\n",
            "  1.08837891  1.03173828  1.0234375   0.94726562  0.88574219  0.84912109\n",
            "  0.79541016  0.71533203  0.65283203  0.64355469  0.51513672  0.44042969\n",
            "  0.34863281  0.28369141  0.19335938  0.0546875 ]\n"
          ]
        }
      ]
    },
    {
      "cell_type": "markdown",
      "source": [
        "学習結果の可視化"
      ],
      "metadata": {
        "id": "1aQhNZH7CH3m"
      }
    },
    {
      "cell_type": "code",
      "source": [
        "fig = plt.figure()\n",
        "plt.plot([i for i in range(len(costs))], costs)\n",
        "plt.xlabel('Epoch')\n",
        "plt.ylabel('Costs')\n",
        "plt.show()\n",
        "#plt.savefig('./qcl-epoch.png')"
      ],
      "metadata": {
        "colab": {
          "base_uri": "https://localhost:8080/",
          "height": 279
        },
        "id": "RKMh64pJjmKT",
        "outputId": "44dac0e2-101e-4930-9196-7b29e347eeaf"
      },
      "execution_count": 15,
      "outputs": [
        {
          "output_type": "display_data",
          "data": {
            "text/plain": [
              "<Figure size 432x288 with 1 Axes>"
            ],
            "image/png": "[encoded data removed]"
          },
          "metadata": {
            "needs_background": "light"
          }
        }
      ]
    },
    {
      "cell_type": "code",
      "source": [
        "fig = plt.figure()\n",
        "plt.plot(x_train, y_train, \"o\", label='Training Data (with Noise)')\n",
        "plt.plot(x_pred, y_pred_reg_init, label='Predicted result (Initial model)')\n",
        "plt.plot(x_pred, y_pred_reg_final, label='Predicted result (Final model)')\n",
        "plt.plot(x_pred, y_pred, label='Original Function')\n",
        "plt.legend()\n",
        "plt.show()\n",
        "#plt.savefig('./qcl-regplot.png')"
      ],
      "metadata": {
        "colab": {
          "base_uri": "https://localhost:8080/",
          "height": 265
        },
        "id": "sPX5pzyPBMRr",
        "outputId": "e40c7b56-790c-4b9d-bafe-9fa373786456"
      },
      "execution_count": 16,
      "outputs": [
        {
          "output_type": "display_data",
          "data": {
            "text/plain": [
              "<Figure size 432x288 with 1 Axes>"
            ],
            "image/png": "[encoded data removed]"
          },
          "metadata": {
            "needs_background": "light"
          }
        }
      ]
    }
  ]
}