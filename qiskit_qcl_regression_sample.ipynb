{
  "nbformat": 4,
  "nbformat_minor": 0,
  "metadata": {
    "colab": {
      "provenance": [],
      "collapsed_sections": [],
      "authorship_tag": "ABX9TyPZFB/QXU88BL5HJP4wnQKG",
      "include_colab_link": true
    },
    "kernelspec": {
      "name": "python3",
      "display_name": "Python 3"
    },
    "language_info": {
      "name": "python"
    }
  },
  "cells": [
    {
      "cell_type": "markdown",
      "metadata": {
        "id": "view-in-github",
        "colab_type": "text"
      },
      "source": [
        "<a href=\"https://colab.research.google.com/github/mkatouda/qmlsample/blob/master/qiskit_qcl_regression_sample.ipynb\" target=\"_parent\"><img src=\"https://colab.research.google.com/assets/colab-badge.svg\" alt=\"Open In Colab\"/></a>"
      ]
    },
    {
      "cell_type": "markdown",
      "source": [
        "# **Qiskitによる量子回路学習のサンプルコード: 関数の回帰問題**\n",
        "量子機械学習にパラメータ化された量子回路(PQC)を適用しNISQ量子コンピュータで実行可能としたことでブレークスルーとなった手法として，大阪大学の御手洗らにより開発された量子回路学習(Quantum Cirquit Learning: QCL)が挙げられる．\n",
        "本ノートブックでは，量子回路学習アルゴリズムをIBMの量子コンピューティングSDKであるQiskitを用いて実装した例を紹介する．量子回路学習アルゴリズムでは以下の手順で量子・古典ハイブリッド計算が行われる．2-4のプロセスは量子コンピュータで，1，5-6のプロセスは古典コンピュータでそれぞれ計算される．\n",
        "\n",
        "1.   学習データ{(xi, yi), xiは入力データのベクトル, yiは出力データの真の値(教師データ)}を用意する．\n",
        "2.   入力xを量子状態に埋め込む量子回路U_in(x) (特徴量マップとよぶ)を設定し，xiのデータを入力量子状態|ψ_in(xi)>=U_in(xi)|0>として埋め込む．\n",
        "3.   変分最適化により調整可能なパラメータを持つ量子回路U_out(θ)を設定し，入力量子状態に作用させ，出力量子業態|ψ_out(xi, θ)>= U_out(θ)|ψ_in(xi)>を得る．\n",
        "4.   出力量子状態に対し観測量の演算子を設定し，その観測量の測定値y(xi,θ)を得る．\n",
        "5.   真の値yiと測定値y(xi,θ)間の乖離を表すコスト関数L(θ)を設定し，その値を極小化する方向に向かうθの候補値に更新する．\n",
        "6.   3-5のプロセスを繰り返し，コスト関数L(θ)を最小化するパラメータθminを探索する．探索により得られたパラメータθminを用いたy(xi,θmin)を予測モデルとして採用する．\n"
      ],
      "metadata": {
        "id": "lSd_C02ywvKQ"
      }
    },
    {
      "cell_type": "markdown",
      "source": [
        "qiskitのインストール"
      ],
      "metadata": {
        "id": "fpE6DUM2wcA_"
      }
    },
    {
      "cell_type": "code",
      "execution_count": 335,
      "metadata": {
        "colab": {
          "base_uri": "https://localhost:8080/"
        },
        "id": "bcpIWniUu8vk",
        "outputId": "3c852320-2419-4238-fea4-8e04c75658f9"
      },
      "outputs": [
        {
          "output_type": "stream",
          "name": "stdout",
          "text": [
            "Looking in indexes: https://pypi.org/simple, https://us-python.pkg.dev/colab-wheels/public/simple/\n",
            "Requirement already satisfied: qiskit in /usr/local/lib/python3.7/dist-packages (0.38.0)\n",
            "Requirement already satisfied: qiskit-terra==0.21.2 in /usr/local/lib/python3.7/dist-packages (from qiskit) (0.21.2)\n",
            "Requirement already satisfied: qiskit-aer==0.11.0 in /usr/local/lib/python3.7/dist-packages (from qiskit) (0.11.0)\n",
            "Requirement already satisfied: qiskit-ibmq-provider==0.19.2 in /usr/local/lib/python3.7/dist-packages (from qiskit) (0.19.2)\n",
            "Requirement already satisfied: scipy>=1.0 in /usr/local/lib/python3.7/dist-packages (from qiskit-aer==0.11.0->qiskit) (1.7.3)\n",
            "Requirement already satisfied: numpy>=1.16.3 in /usr/local/lib/python3.7/dist-packages (from qiskit-aer==0.11.0->qiskit) (1.21.6)\n",
            "Requirement already satisfied: requests-ntlm>=1.1.0 in /usr/local/lib/python3.7/dist-packages (from qiskit-ibmq-provider==0.19.2->qiskit) (1.1.0)\n",
            "Requirement already satisfied: urllib3>=1.21.1 in /usr/local/lib/python3.7/dist-packages (from qiskit-ibmq-provider==0.19.2->qiskit) (1.24.3)\n",
            "Requirement already satisfied: python-dateutil>=2.8.0 in /usr/local/lib/python3.7/dist-packages (from qiskit-ibmq-provider==0.19.2->qiskit) (2.8.2)\n",
            "Requirement already satisfied: websockets>=10.0 in /usr/local/lib/python3.7/dist-packages (from qiskit-ibmq-provider==0.19.2->qiskit) (10.3)\n",
            "Requirement already satisfied: requests>=2.19 in /usr/local/lib/python3.7/dist-packages (from qiskit-ibmq-provider==0.19.2->qiskit) (2.23.0)\n",
            "Requirement already satisfied: websocket-client>=1.0.1 in /usr/local/lib/python3.7/dist-packages (from qiskit-ibmq-provider==0.19.2->qiskit) (1.4.1)\n",
            "Requirement already satisfied: sympy>=1.3 in /usr/local/lib/python3.7/dist-packages (from qiskit-terra==0.21.2->qiskit) (1.7.1)\n",
            "Requirement already satisfied: dill>=0.3 in /usr/local/lib/python3.7/dist-packages (from qiskit-terra==0.21.2->qiskit) (0.3.5.1)\n",
            "Requirement already satisfied: typing-extensions in /usr/local/lib/python3.7/dist-packages (from qiskit-terra==0.21.2->qiskit) (4.1.1)\n",
            "Requirement already satisfied: symengine>=0.9 in /usr/local/lib/python3.7/dist-packages (from qiskit-terra==0.21.2->qiskit) (0.9.2)\n",
            "Requirement already satisfied: ply>=3.10 in /usr/local/lib/python3.7/dist-packages (from qiskit-terra==0.21.2->qiskit) (3.11)\n",
            "Requirement already satisfied: retworkx>=0.11.0 in /usr/local/lib/python3.7/dist-packages (from qiskit-terra==0.21.2->qiskit) (0.12.0)\n",
            "Requirement already satisfied: stevedore>=3.0.0 in /usr/local/lib/python3.7/dist-packages (from qiskit-terra==0.21.2->qiskit) (3.5.0)\n",
            "Requirement already satisfied: tweedledum<2.0,>=1.1 in /usr/local/lib/python3.7/dist-packages (from qiskit-terra==0.21.2->qiskit) (1.1.1)\n",
            "Requirement already satisfied: shared-memory38 in /usr/local/lib/python3.7/dist-packages (from qiskit-terra==0.21.2->qiskit) (0.1.2)\n",
            "Requirement already satisfied: psutil>=5 in /usr/local/lib/python3.7/dist-packages (from qiskit-terra==0.21.2->qiskit) (5.4.8)\n",
            "Requirement already satisfied: six>=1.5 in /usr/local/lib/python3.7/dist-packages (from python-dateutil>=2.8.0->qiskit-ibmq-provider==0.19.2->qiskit) (1.15.0)\n",
            "Requirement already satisfied: chardet<4,>=3.0.2 in /usr/local/lib/python3.7/dist-packages (from requests>=2.19->qiskit-ibmq-provider==0.19.2->qiskit) (3.0.4)\n",
            "Requirement already satisfied: certifi>=2017.4.17 in /usr/local/lib/python3.7/dist-packages (from requests>=2.19->qiskit-ibmq-provider==0.19.2->qiskit) (2022.9.24)\n",
            "Requirement already satisfied: idna<3,>=2.5 in /usr/local/lib/python3.7/dist-packages (from requests>=2.19->qiskit-ibmq-provider==0.19.2->qiskit) (2.10)\n",
            "Requirement already satisfied: cryptography>=1.3 in /usr/local/lib/python3.7/dist-packages (from requests-ntlm>=1.1.0->qiskit-ibmq-provider==0.19.2->qiskit) (38.0.1)\n",
            "Requirement already satisfied: ntlm-auth>=1.0.2 in /usr/local/lib/python3.7/dist-packages (from requests-ntlm>=1.1.0->qiskit-ibmq-provider==0.19.2->qiskit) (1.5.0)\n",
            "Requirement already satisfied: cffi>=1.12 in /usr/local/lib/python3.7/dist-packages (from cryptography>=1.3->requests-ntlm>=1.1.0->qiskit-ibmq-provider==0.19.2->qiskit) (1.15.1)\n",
            "Requirement already satisfied: pycparser in /usr/local/lib/python3.7/dist-packages (from cffi>=1.12->cryptography>=1.3->requests-ntlm>=1.1.0->qiskit-ibmq-provider==0.19.2->qiskit) (2.21)\n",
            "Requirement already satisfied: rustworkx==0.12.0 in /usr/local/lib/python3.7/dist-packages (from retworkx>=0.11.0->qiskit-terra==0.21.2->qiskit) (0.12.0)\n",
            "Requirement already satisfied: pbr!=2.1.0,>=2.0.0 in /usr/local/lib/python3.7/dist-packages (from stevedore>=3.0.0->qiskit-terra==0.21.2->qiskit) (5.10.0)\n",
            "Requirement already satisfied: importlib-metadata>=1.7.0 in /usr/local/lib/python3.7/dist-packages (from stevedore>=3.0.0->qiskit-terra==0.21.2->qiskit) (5.0.0)\n",
            "Requirement already satisfied: zipp>=0.5 in /usr/local/lib/python3.7/dist-packages (from importlib-metadata>=1.7.0->stevedore>=3.0.0->qiskit-terra==0.21.2->qiskit) (3.8.1)\n",
            "Requirement already satisfied: mpmath>=0.19 in /usr/local/lib/python3.7/dist-packages (from sympy>=1.3->qiskit-terra==0.21.2->qiskit) (1.2.1)\n"
          ]
        }
      ],
      "source": [
        "!pip install qiskit"
      ]
    },
    {
      "cell_type": "markdown",
      "source": [
        "必要なモジュールをインポート"
      ],
      "metadata": {
        "id": "KAkUz2xvwSOz"
      }
    },
    {
      "cell_type": "code",
      "source": [
        "%matplotlib inline\n",
        "import numpy as np\n",
        "import matplotlib.pyplot as plt\n",
        "\n",
        "from qiskit import QuantumCircuit, ClassicalRegister, QuantumRegister, Aer, transpile\n",
        "from qiskit.algorithms.optimizers import COBYLA"
      ],
      "metadata": {
        "id": "SFEqvIzavGyU"
      },
      "execution_count": 336,
      "outputs": []
    },
    {
      "cell_type": "markdown",
      "source": [
        "QCLモデルの入力パラメータの設定\n"
      ],
      "metadata": {
        "id": "8NmUW0iewZ9q"
      }
    },
    {
      "cell_type": "code",
      "source": [
        "########  パラメータ  #############\n",
        "# 乱数のシード\n",
        "random_seed = 0\n",
        "# 乱数発生器の初期化\n",
        "np.random.seed(random_seed)\n",
        "\n",
        "# Qubit数，回路の深さ，期待値の増幅係数\n",
        "nqubit = 2\n",
        "c_depth = 5\n",
        "Mfac = 2.0\n",
        "\n",
        "# 量子シミュレータの設定\n",
        "num_shots = 8192\n",
        "\n",
        "# パラメータオプティマイザの設定\n",
        "maxiter = 100\n",
        "tol = 0.05"
      ],
      "metadata": {
        "id": "E4aMSSUTvayP"
      },
      "execution_count": 337,
      "outputs": []
    },
    {
      "cell_type": "markdown",
      "source": [
        "回帰するデータの設定"
      ],
      "metadata": {
        "id": "4Ho_LutylBc7"
      }
    },
    {
      "cell_type": "code",
      "source": [
        "########  学習データ  #############\n",
        "# 回帰する関数の定義\n",
        "#func_to_learn = lambda x: x**3\n",
        "func_to_learn = lambda x: np.sin(x*np.pi)\n",
        "\n",
        "# 回帰データの設定\n",
        "x_min = -1.; x_max = 1.; num_x_train = 100\n",
        "x_train = x_min + (x_max - x_min) * np.random.rand(num_x_train)\n",
        "y_train = func_to_learn(x_train)\n",
        "\n",
        "x_pred = np.arange(x_min, x_max, 0.02)\n",
        "y_pred = func_to_learn(x_pred)\n",
        "\n",
        "# 関数に正規分布ノイズを付加\n",
        "mag_noise = 0.05\n",
        "y_train += mag_noise * np.random.randn(num_x_train)"
      ],
      "metadata": {
        "id": "vIaHAWFik6PI"
      },
      "execution_count": 338,
      "outputs": []
    },
    {
      "cell_type": "markdown",
      "source": [
        "回帰データの可視化"
      ],
      "metadata": {
        "id": "3mDi6DCPB_gB"
      }
    },
    {
      "cell_type": "code",
      "source": [
        "fig = plt.figure()\n",
        "plt.plot(x_train, y_train, \"o\", label='Training Data (with Noise)')\n",
        "plt.plot(x_pred, y_pred, label='Original Function')\n",
        "plt.legend()\n",
        "plt.show()\n",
        "#plt.savefig('./inputdata-plot.png')"
      ],
      "metadata": {
        "colab": {
          "base_uri": "https://localhost:8080/",
          "height": 265
        },
        "id": "R52wIDSj0l7e",
        "outputId": "c9a06dc4-dd5c-463a-f215-aff4c46d4fce"
      },
      "execution_count": 339,
      "outputs": [
        {
          "output_type": "display_data",
          "data": {
            "text/plain": [
              "<Figure size 432x288 with 1 Axes>"
            ],
            "image/png": "[encoded data removed]"
          },
          "metadata": {
            "needs_background": "light"
          }
        }
      ]
    },
    {
      "cell_type": "markdown",
      "source": [
        "入力回路U_in(x)の設定\n"
      ],
      "metadata": {
        "id": "3vsZ1jcBzuDs"
      }
    },
    {
      "cell_type": "code",
      "source": [
        "def U_in(x, nqubit):\n",
        "    qr = QuantumRegister(nqubit)\n",
        "    U = QuantumCircuit(qr)\n",
        "\n",
        "    for j in range(2):\n",
        "        for i in range(nqubit):\n",
        "            U.ry(x, i)\n",
        "            U.rz(x, i)\n",
        "        for i in range(nqubit-1):\n",
        "            U.cz(i, i+1)\n",
        "        if nqubit >=3: U.cz(nqubit-1, 0)\n",
        "\n",
        "    U.name = \"U_in\"\n",
        "    return U\n",
        "\n",
        "U_in(x_train[0], nqubit).draw()"
      ],
      "metadata": {
        "colab": {
          "base_uri": "https://localhost:8080/",
          "height": 171
        },
        "id": "v7FOfLlYvjnM",
        "outputId": "c563a1f1-ada9-4020-bb93-31480fe2b045"
      },
      "execution_count": 340,
      "outputs": [
        {
          "output_type": "execute_result",
          "data": {
            "text/plain": [
              "            ┌──────────────┐┌──────────────┐   ┌──────────────┐┌──────────────┐»\n",
              "q1361458_0: ┤ Ry(0.097627) ├┤ Rz(0.097627) ├─■─┤ Ry(0.097627) ├┤ Rz(0.097627) ├»\n",
              "            ├──────────────┤├──────────────┤ │ ├──────────────┤├──────────────┤»\n",
              "q1361458_1: ┤ Ry(0.097627) ├┤ Rz(0.097627) ├─■─┤ Ry(0.097627) ├┤ Rz(0.097627) ├»\n",
              "            └──────────────┘└──────────────┘   └──────────────┘└──────────────┘»\n",
              "«               \n",
              "«q1361458_0: ─■─\n",
              "«             │ \n",
              "«q1361458_1: ─■─\n",
              "«               "
            ],
            "text/html": [
              "<pre style=\"word-wrap: normal;white-space: pre;background: #fff0;line-height: 1.1;font-family: &quot;Courier New&quot;,Courier,monospace\">            ┌──────────────┐┌──────────────┐   ┌──────────────┐┌──────────────┐»\n",
              "q1361458_0: ┤ Ry(0.097627) ├┤ Rz(0.097627) ├─■─┤ Ry(0.097627) ├┤ Rz(0.097627) ├»\n",
              "            ├──────────────┤├──────────────┤ │ ├──────────────┤├──────────────┤»\n",
              "q1361458_1: ┤ Ry(0.097627) ├┤ Rz(0.097627) ├─■─┤ Ry(0.097627) ├┤ Rz(0.097627) ├»\n",
              "            └──────────────┘└──────────────┘   └──────────────┘└──────────────┘»\n",
              "«               \n",
              "«q1361458_0: ─■─\n",
              "«             │ \n",
              "«q1361458_1: ─■─\n",
              "«               </pre>"
            ]
          },
          "metadata": {},
          "execution_count": 340
        }
      ]
    },
    {
      "cell_type": "markdown",
      "source": [
        "出力回路U_out(θ)の設定"
      ],
      "metadata": {
        "id": "LaV8ltB0vo-p"
      }
    },
    {
      "cell_type": "code",
      "source": [
        "def U_out(nqubit, c_depth, params):\n",
        "    qr = QuantumRegister(nqubit)\n",
        "    U = QuantumCircuit(qr)\n",
        "\n",
        "    for d in range(c_depth):\n",
        "        for i in range(nqubit-1):\n",
        "            U.cz(i, i+1)\n",
        "        if nqubit >=3: U.cz(nqubit-1, 0)\n",
        "        for i in range(nqubit):\n",
        "            U.rx(params[nqubit*3*d+3*i], i)\n",
        "            U.rz(params[nqubit*3*d+3*i+1], i)\n",
        "            U.rx(params[nqubit*3*d+3*i+2], i)\n",
        "\n",
        "    U.name = \"U_out\"\n",
        "    return U"
      ],
      "metadata": {
        "id": "l_WaSr23z4GL"
      },
      "execution_count": 341,
      "outputs": []
    },
    {
      "cell_type": "markdown",
      "source": [
        "出力回路U_out(θ)の回路パラメータθの初期化"
      ],
      "metadata": {
        "id": "wWE171DO-UFw"
      }
    },
    {
      "cell_type": "code",
      "source": [
        "num_vars = 3 * nqubit * c_depth\n",
        "params = np.random.rand(num_vars) * 2 * np.pi\n",
        "print('initial params', params)\n",
        "U_out(nqubit, c_depth, params).draw()"
      ],
      "metadata": {
        "colab": {
          "base_uri": "https://localhost:8080/",
          "height": 415
        },
        "id": "YzyS7nBU1ZNd",
        "outputId": "0769dc67-11e0-48d5-a53b-544789567094"
      },
      "execution_count": 342,
      "outputs": [
        {
          "output_type": "stream",
          "name": "stdout",
          "text": [
            "initial params [1.30357293 2.6683775  2.35097932 2.9127303  1.74439261 3.68687478\n",
            " 5.42776485 0.73847443 3.2507888  0.82980839 4.50416222 2.48851651\n",
            " 3.55264688 1.15158117 0.91010531 3.06654805 2.23438073 5.90890818\n",
            " 4.80868039 4.70399226 5.67823859 0.52415862 3.46952761 3.67237145\n",
            " 6.04402452 1.83561705 1.51317185 0.63016542 0.10323041 5.84040495]\n"
          ]
        },
        {
          "output_type": "execute_result",
          "data": {
            "text/plain": [
              "               ┌────────────┐┌────────────┐┌───────────┐     ┌────────────┐»\n",
              "q1361459_0: ─■─┤ Rx(1.3036) ├┤ Rz(2.6684) ├┤ Rx(2.351) ├──■──┤ Rx(5.4278) ├»\n",
              "             │ ├────────────┤├────────────┤├───────────┴┐ │ ┌┴────────────┤»\n",
              "q1361459_1: ─■─┤ Rx(2.9127) ├┤ Rz(1.7444) ├┤ Rx(3.6869) ├─■─┤ Rx(0.82981) ├»\n",
              "               └────────────┘└────────────┘└────────────┘   └─────────────┘»\n",
              "«            ┌─────────────┐┌────────────┐   ┌────────────┐┌────────────┐»\n",
              "«q1361459_0: ┤ Rz(0.73847) ├┤ Rx(3.2508) ├─■─┤ Rx(3.5526) ├┤ Rz(1.1516) ├»\n",
              "«            └┬────────────┤├────────────┤ │ ├────────────┤├────────────┤»\n",
              "«q1361459_1: ─┤ Rz(4.5042) ├┤ Rx(2.4885) ├─■─┤ Rx(3.0665) ├┤ Rz(2.2344) ├»\n",
              "«             └────────────┘└────────────┘   └────────────┘└────────────┘»\n",
              "«            ┌─────────────┐    ┌────────────┐┌───────────┐ ┌────────────┐   »\n",
              "«q1361459_0: ┤ Rx(0.91011) ├─■──┤ Rx(4.8087) ├┤ Rz(4.704) ├─┤ Rx(5.6782) ├─■─»\n",
              "«            └┬────────────┤ │ ┌┴────────────┤├───────────┴┐├────────────┤ │ »\n",
              "«q1361459_1: ─┤ Rx(5.9089) ├─■─┤ Rx(0.52416) ├┤ Rz(3.4695) ├┤ Rx(3.6724) ├─■─»\n",
              "«             └────────────┘   └─────────────┘└────────────┘└────────────┘   »\n",
              "«             ┌───────────┐  ┌────────────┐┌────────────┐\n",
              "«q1361459_0: ─┤ Rx(6.044) ├──┤ Rz(1.8356) ├┤ Rx(1.5132) ├\n",
              "«            ┌┴───────────┴┐┌┴────────────┤├────────────┤\n",
              "«q1361459_1: ┤ Rx(0.63017) ├┤ Rz(0.10323) ├┤ Rx(5.8404) ├\n",
              "«            └─────────────┘└─────────────┘└────────────┘"
            ],
            "text/html": [
              "<pre style=\"word-wrap: normal;white-space: pre;background: #fff0;line-height: 1.1;font-family: &quot;Courier New&quot;,Courier,monospace\">               ┌────────────┐┌────────────┐┌───────────┐     ┌────────────┐»\n",
              "q1361459_0: ─■─┤ Rx(1.3036) ├┤ Rz(2.6684) ├┤ Rx(2.351) ├──■──┤ Rx(5.4278) ├»\n",
              "             │ ├────────────┤├────────────┤├───────────┴┐ │ ┌┴────────────┤»\n",
              "q1361459_1: ─■─┤ Rx(2.9127) ├┤ Rz(1.7444) ├┤ Rx(3.6869) ├─■─┤ Rx(0.82981) ├»\n",
              "               └────────────┘└────────────┘└────────────┘   └─────────────┘»\n",
              "«            ┌─────────────┐┌────────────┐   ┌────────────┐┌────────────┐»\n",
              "«q1361459_0: ┤ Rz(0.73847) ├┤ Rx(3.2508) ├─■─┤ Rx(3.5526) ├┤ Rz(1.1516) ├»\n",
              "«            └┬────────────┤├────────────┤ │ ├────────────┤├────────────┤»\n",
              "«q1361459_1: ─┤ Rz(4.5042) ├┤ Rx(2.4885) ├─■─┤ Rx(3.0665) ├┤ Rz(2.2344) ├»\n",
              "«             └────────────┘└────────────┘   └────────────┘└────────────┘»\n",
              "«            ┌─────────────┐    ┌────────────┐┌───────────┐ ┌────────────┐   »\n",
              "«q1361459_0: ┤ Rx(0.91011) ├─■──┤ Rx(4.8087) ├┤ Rz(4.704) ├─┤ Rx(5.6782) ├─■─»\n",
              "«            └┬────────────┤ │ ┌┴────────────┤├───────────┴┐├────────────┤ │ »\n",
              "«q1361459_1: ─┤ Rx(5.9089) ├─■─┤ Rx(0.52416) ├┤ Rz(3.4695) ├┤ Rx(3.6724) ├─■─»\n",
              "«             └────────────┘   └─────────────┘└────────────┘└────────────┘   »\n",
              "«             ┌───────────┐  ┌────────────┐┌────────────┐\n",
              "«q1361459_0: ─┤ Rx(6.044) ├──┤ Rz(1.8356) ├┤ Rx(1.5132) ├\n",
              "«            ┌┴───────────┴┐┌┴────────────┤├────────────┤\n",
              "«q1361459_1: ┤ Rx(0.63017) ├┤ Rz(0.10323) ├┤ Rx(5.8404) ├\n",
              "«            └─────────────┘└─────────────┘└────────────┘</pre>"
            ]
          },
          "metadata": {},
          "execution_count": 342
        }
      ]
    },
    {
      "cell_type": "markdown",
      "source": [
        "量子回路学習モデルの設定"
      ],
      "metadata": {
        "id": "6Q0DoEW2-RZ5"
      }
    },
    {
      "cell_type": "code",
      "source": [
        "def pred_circ(x, nqubit, c_depth, params):\n",
        "\n",
        "    qr = QuantumRegister(nqubit, name='q')\n",
        "    cr = ClassicalRegister(1, name='c')\n",
        "    circ = QuantumCircuit(qr, cr)\n",
        "\n",
        "    u_in = U_in(x, nqubit).to_instruction()\n",
        "    u_out = U_out(nqubit, c_depth, params).to_instruction()\n",
        "\n",
        "    circ.append(u_in, qr)\n",
        "    circ.append(u_out, qr)\n",
        "    circ.measure(0, 0)\n",
        "\n",
        "    return circ\n",
        "\n",
        "pred_circ(x_train[0], nqubit, c_depth, params).decompose().draw()"
      ],
      "metadata": {
        "colab": {
          "base_uri": "https://localhost:8080/",
          "height": 556
        },
        "id": "MCSeyJlB3dSZ",
        "outputId": "5f4fe916-d13a-4bc4-c8ba-20cdd708991d"
      },
      "execution_count": 343,
      "outputs": [
        {
          "output_type": "execute_result",
          "data": {
            "text/plain": [
              "     ┌──────────────┐┌──────────────┐   ┌──────────────┐┌──────────────┐      »\n",
              "q_0: ┤ Ry(0.097627) ├┤ Rz(0.097627) ├─■─┤ Ry(0.097627) ├┤ Rz(0.097627) ├─■──■─»\n",
              "     ├──────────────┤├──────────────┤ │ ├──────────────┤├──────────────┤ │  │ »\n",
              "q_1: ┤ Ry(0.097627) ├┤ Rz(0.097627) ├─■─┤ Ry(0.097627) ├┤ Rz(0.097627) ├─■──■─»\n",
              "     └──────────────┘└──────────────┘   └──────────────┘└──────────────┘      »\n",
              "c: 1/═════════════════════════════════════════════════════════════════════════»\n",
              "                                                                              »\n",
              "«     ┌────────────┐┌────────────┐┌───────────┐     ┌────────────┐»\n",
              "«q_0: ┤ Rx(1.3036) ├┤ Rz(2.6684) ├┤ Rx(2.351) ├──■──┤ Rx(5.4278) ├»\n",
              "«     ├────────────┤├────────────┤├───────────┴┐ │ ┌┴────────────┤»\n",
              "«q_1: ┤ Rx(2.9127) ├┤ Rz(1.7444) ├┤ Rx(3.6869) ├─■─┤ Rx(0.82981) ├»\n",
              "«     └────────────┘└────────────┘└────────────┘   └─────────────┘»\n",
              "«c: 1/════════════════════════════════════════════════════════════»\n",
              "«                                                                 »\n",
              "«     ┌─────────────┐┌────────────┐   ┌────────────┐┌────────────┐»\n",
              "«q_0: ┤ Rz(0.73847) ├┤ Rx(3.2508) ├─■─┤ Rx(3.5526) ├┤ Rz(1.1516) ├»\n",
              "«     └┬────────────┤├────────────┤ │ ├────────────┤├────────────┤»\n",
              "«q_1: ─┤ Rz(4.5042) ├┤ Rx(2.4885) ├─■─┤ Rx(3.0665) ├┤ Rz(2.2344) ├»\n",
              "«      └────────────┘└────────────┘   └────────────┘└────────────┘»\n",
              "«c: 1/════════════════════════════════════════════════════════════»\n",
              "«                                                                 »\n",
              "«     ┌─────────────┐    ┌────────────┐┌───────────┐ ┌────────────┐   »\n",
              "«q_0: ┤ Rx(0.91011) ├─■──┤ Rx(4.8087) ├┤ Rz(4.704) ├─┤ Rx(5.6782) ├─■─»\n",
              "«     └┬────────────┤ │ ┌┴────────────┤├───────────┴┐├────────────┤ │ »\n",
              "«q_1: ─┤ Rx(5.9089) ├─■─┤ Rx(0.52416) ├┤ Rz(3.4695) ├┤ Rx(3.6724) ├─■─»\n",
              "«      └────────────┘   └─────────────┘└────────────┘└────────────┘   »\n",
              "«c: 1/════════════════════════════════════════════════════════════════»\n",
              "«                                                                     »\n",
              "«      ┌───────────┐  ┌────────────┐┌────────────┐┌─┐\n",
              "«q_0: ─┤ Rx(6.044) ├──┤ Rz(1.8356) ├┤ Rx(1.5132) ├┤M├\n",
              "«     ┌┴───────────┴┐┌┴────────────┤├────────────┤└╥┘\n",
              "«q_1: ┤ Rx(0.63017) ├┤ Rz(0.10323) ├┤ Rx(5.8404) ├─╫─\n",
              "«     └─────────────┘└─────────────┘└────────────┘ ║ \n",
              "«c: 1/═════════════════════════════════════════════╩═\n",
              "«                                                  0 "
            ],
            "text/html": [
              "<pre style=\"word-wrap: normal;white-space: pre;background: #fff0;line-height: 1.1;font-family: &quot;Courier New&quot;,Courier,monospace\">     ┌──────────────┐┌──────────────┐   ┌──────────────┐┌──────────────┐      »\n",
              "q_0: ┤ Ry(0.097627) ├┤ Rz(0.097627) ├─■─┤ Ry(0.097627) ├┤ Rz(0.097627) ├─■──■─»\n",
              "     ├──────────────┤├──────────────┤ │ ├──────────────┤├──────────────┤ │  │ »\n",
              "q_1: ┤ Ry(0.097627) ├┤ Rz(0.097627) ├─■─┤ Ry(0.097627) ├┤ Rz(0.097627) ├─■──■─»\n",
              "     └──────────────┘└──────────────┘   └──────────────┘└──────────────┘      »\n",
              "c: 1/═════════════════════════════════════════════════════════════════════════»\n",
              "                                                                              »\n",
              "«     ┌────────────┐┌────────────┐┌───────────┐     ┌────────────┐»\n",
              "«q_0: ┤ Rx(1.3036) ├┤ Rz(2.6684) ├┤ Rx(2.351) ├──■──┤ Rx(5.4278) ├»\n",
              "«     ├────────────┤├────────────┤├───────────┴┐ │ ┌┴────────────┤»\n",
              "«q_1: ┤ Rx(2.9127) ├┤ Rz(1.7444) ├┤ Rx(3.6869) ├─■─┤ Rx(0.82981) ├»\n",
              "«     └────────────┘└────────────┘└────────────┘   └─────────────┘»\n",
              "«c: 1/════════════════════════════════════════════════════════════»\n",
              "«                                                                 »\n",
              "«     ┌─────────────┐┌────────────┐   ┌────────────┐┌────────────┐»\n",
              "«q_0: ┤ Rz(0.73847) ├┤ Rx(3.2508) ├─■─┤ Rx(3.5526) ├┤ Rz(1.1516) ├»\n",
              "«     └┬────────────┤├────────────┤ │ ├────────────┤├────────────┤»\n",
              "«q_1: ─┤ Rz(4.5042) ├┤ Rx(2.4885) ├─■─┤ Rx(3.0665) ├┤ Rz(2.2344) ├»\n",
              "«      └────────────┘└────────────┘   └────────────┘└────────────┘»\n",
              "«c: 1/════════════════════════════════════════════════════════════»\n",
              "«                                                                 »\n",
              "«     ┌─────────────┐    ┌────────────┐┌───────────┐ ┌────────────┐   »\n",
              "«q_0: ┤ Rx(0.91011) ├─■──┤ Rx(4.8087) ├┤ Rz(4.704) ├─┤ Rx(5.6782) ├─■─»\n",
              "«     └┬────────────┤ │ ┌┴────────────┤├───────────┴┐├────────────┤ │ »\n",
              "«q_1: ─┤ Rx(5.9089) ├─■─┤ Rx(0.52416) ├┤ Rz(3.4695) ├┤ Rx(3.6724) ├─■─»\n",
              "«      └────────────┘   └─────────────┘└────────────┘└────────────┘   »\n",
              "«c: 1/════════════════════════════════════════════════════════════════»\n",
              "«                                                                     »\n",
              "«      ┌───────────┐  ┌────────────┐┌────────────┐┌─┐\n",
              "«q_0: ─┤ Rx(6.044) ├──┤ Rz(1.8356) ├┤ Rx(1.5132) ├┤M├\n",
              "«     ┌┴───────────┴┐┌┴────────────┤├────────────┤└╥┘\n",
              "«q_1: ┤ Rx(0.63017) ├┤ Rz(0.10323) ├┤ Rx(5.8404) ├─╫─\n",
              "«     └─────────────┘└─────────────┘└────────────┘ ║ \n",
              "«c: 1/═════════════════════════════════════════════╩═\n",
              "«                                                  0 </pre>"
            ]
          },
          "metadata": {},
          "execution_count": 343
        }
      ]
    },
    {
      "cell_type": "markdown",
      "source": [
        "量子回路学習回帰モデルの設定"
      ],
      "metadata": {
        "id": "70G-PtTWAF7-"
      }
    },
    {
      "cell_type": "code",
      "source": [
        "def qcl_reg(x_pred, nqubit, c_depth, params, num_shots, Mfac=2.0):\n",
        "    y_pred = []\n",
        "    for x in x_pred:\n",
        "        qc = pred_circ(x, nqubit, c_depth, params)\n",
        "        qc = transpile(qc, backend=backend)\n",
        "        result = backend.run(qc, shots=num_shots).result()\n",
        "        counts = result.get_counts(qc)\n",
        "        exp_mZ = Mfac * (counts['0'] - counts['1']) / num_shots\n",
        "        y_pred.append(exp_mZ)\n",
        "\n",
        "    return np.array(y_pred)"
      ],
      "metadata": {
        "id": "p07csMtw_ae3"
      },
      "execution_count": 344,
      "outputs": []
    },
    {
      "cell_type": "markdown",
      "source": [
        "量子回路学習回帰モデルのテスト実行"
      ],
      "metadata": {
        "id": "nQrLsMK1_qgj"
      }
    },
    {
      "cell_type": "code",
      "source": [
        "backend = Aer.get_backend(\"qasm_simulator\")\n",
        "y_pred_reg_init = qcl_reg(x_pred, nqubit, c_depth, params, num_shots, Mfac)\n",
        "print('y_pred_reg_init:', y_pred_reg_init)"
      ],
      "metadata": {
        "colab": {
          "base_uri": "https://localhost:8080/"
        },
        "id": "6v3eJ9n5_j_D",
        "outputId": "230bb170-6d5f-4ee6-e9d8-757bcfa810cb"
      },
      "execution_count": 345,
      "outputs": [
        {
          "output_type": "stream",
          "name": "stdout",
          "text": [
            "y_pred_reg_init: [-1.93212891 -1.88916016 -1.84765625 -1.80761719 -1.7421875  -1.68798828\n",
            " -1.59179688 -1.49707031 -1.42089844 -1.32177734 -1.23242188 -1.11621094\n",
            " -0.99560547 -0.92138672 -0.78759766 -0.68359375 -0.54980469 -0.43652344\n",
            " -0.35009766 -0.24560547 -0.15722656 -0.03076172  0.046875    0.11132812\n",
            "  0.23681641  0.31298828  0.37695312  0.45166016  0.52246094  0.5703125\n",
            "  0.63623047  0.70507812  0.71337891  0.74902344  0.80175781  0.82373047\n",
            "  0.85205078  0.86767578  0.83203125  0.85400391  0.85009766  0.86132812\n",
            "  0.80615234  0.79052734  0.74853516  0.71630859  0.65039062  0.60205078\n",
            "  0.5546875   0.53808594  0.48046875  0.42285156  0.40136719  0.28369141\n",
            "  0.31347656  0.22216797  0.12255859  0.09765625  0.01416016  0.00439453\n",
            " -0.04638672 -0.12109375 -0.1640625  -0.24902344 -0.26611328 -0.28466797\n",
            " -0.31933594 -0.34667969 -0.37597656 -0.41992188 -0.44091797 -0.44580078\n",
            " -0.49169922 -0.44335938 -0.43701172 -0.47509766 -0.45605469 -0.49121094\n",
            " -0.48046875 -0.46484375 -0.41601562 -0.36767578 -0.34960938 -0.32714844\n",
            " -0.28564453 -0.24804688 -0.23535156 -0.22167969 -0.14404297 -0.11523438\n",
            " -0.07617188 -0.06201172 -0.02099609  0.046875    0.08056641  0.12548828\n",
            "  0.15429688  0.19580078  0.20263672  0.22802734]\n"
          ]
        }
      ]
    },
    {
      "cell_type": "markdown",
      "source": [
        "変分回路パラメータ学習用のコスト関数の設定"
      ],
      "metadata": {
        "id": "uEyWj0SI_4-L"
      }
    },
    {
      "cell_type": "code",
      "source": [
        "def cost_function(params):\n",
        "    global iter\n",
        "    cost_total = 0.0\n",
        "    for i in range(len(x_train)):\n",
        "        qc = pred_circ(x_train[i], nqubit, c_depth, params)\n",
        "        qc = transpile(qc, backend=backend)\n",
        "        result = backend.run(qc, shots=num_shots).result()\n",
        "        counts = result.get_counts(qc)\n",
        "        exp_mZ = Mfac * (counts['0'] - counts['1']) / num_shots\n",
        "        cost = (y_train[i] - exp_mZ)**2\n",
        "        cost_total += cost\n",
        "\n",
        "    print('Iter: %d, Cost: %f' % (iter, cost_total))\n",
        "    costs.append(cost_total)\n",
        "    iter += 1\n",
        "\n",
        "    return cost_total"
      ],
      "metadata": {
        "id": "9ODJOIHX_yav"
      },
      "execution_count": 346,
      "outputs": []
    },
    {
      "cell_type": "markdown",
      "source": [
        "変分回路パラメータ学習実行：回路パラメータの最適化アルゴリズムにはCOBYLA法を使用"
      ],
      "metadata": {
        "id": "g7iaOBHlAciA"
      }
    },
    {
      "cell_type": "code",
      "source": [
        "iter = 0; costs = []\n",
        "optimizer = COBYLA(maxiter=maxiter, tol=tol)\n",
        "result = optimizer.minimize(cost_function, params)"
      ],
      "metadata": {
        "colab": {
          "base_uri": "https://localhost:8080/"
        },
        "id": "syhIbYwDAc74",
        "outputId": "38e7e1b7-1b73-4423-f213-a3be46568729"
      },
      "execution_count": 347,
      "outputs": [
        {
          "output_type": "stream",
          "name": "stdout",
          "text": [
            "Iter: 0, Cost: 111.296777\n",
            "Iter: 1, Cost: 86.199434\n",
            "Iter: 2, Cost: 77.268005\n",
            "Iter: 3, Cost: 79.628430\n",
            "Iter: 4, Cost: 48.632174\n",
            "Iter: 5, Cost: 38.039290\n",
            "Iter: 6, Cost: 24.598239\n",
            "Iter: 7, Cost: 103.399775\n",
            "Iter: 8, Cost: 40.715203\n",
            "Iter: 9, Cost: 36.173421\n",
            "Iter: 10, Cost: 49.770392\n",
            "Iter: 11, Cost: 49.512622\n",
            "Iter: 12, Cost: 96.893580\n",
            "Iter: 13, Cost: 55.880375\n",
            "Iter: 14, Cost: 13.010621\n",
            "Iter: 15, Cost: 121.288805\n",
            "Iter: 16, Cost: 42.689763\n",
            "Iter: 17, Cost: 12.232864\n",
            "Iter: 18, Cost: 48.818011\n",
            "Iter: 19, Cost: 114.465907\n",
            "Iter: 20, Cost: 3.784044\n",
            "Iter: 21, Cost: 15.582083\n",
            "Iter: 22, Cost: 123.290705\n",
            "Iter: 23, Cost: 26.621199\n",
            "Iter: 24, Cost: 93.336063\n",
            "Iter: 25, Cost: 6.985056\n",
            "Iter: 26, Cost: 70.543491\n",
            "Iter: 27, Cost: 52.602874\n",
            "Iter: 28, Cost: 3.861518\n",
            "Iter: 29, Cost: 3.896959\n",
            "Iter: 30, Cost: 3.670353\n",
            "Iter: 31, Cost: 62.843216\n",
            "Iter: 32, Cost: 1.967706\n",
            "Iter: 33, Cost: 5.497331\n",
            "Iter: 34, Cost: 16.960813\n",
            "Iter: 35, Cost: 61.018540\n",
            "Iter: 36, Cost: 18.676443\n",
            "Iter: 37, Cost: 8.091647\n",
            "Iter: 38, Cost: 5.796663\n",
            "Iter: 39, Cost: 9.001466\n",
            "Iter: 40, Cost: 10.240895\n",
            "Iter: 41, Cost: 94.900697\n",
            "Iter: 42, Cost: 2.501979\n",
            "Iter: 43, Cost: 76.657446\n",
            "Iter: 44, Cost: 22.028386\n",
            "Iter: 45, Cost: 3.928285\n",
            "Iter: 46, Cost: 6.093125\n",
            "Iter: 47, Cost: 6.751757\n",
            "Iter: 48, Cost: 2.990256\n",
            "Iter: 49, Cost: 2.373011\n",
            "Iter: 50, Cost: 5.367477\n",
            "Iter: 51, Cost: 2.838387\n",
            "Iter: 52, Cost: 2.874256\n",
            "Iter: 53, Cost: 1.956137\n",
            "Iter: 54, Cost: 46.299574\n",
            "Iter: 55, Cost: 2.776025\n",
            "Iter: 56, Cost: 28.348696\n",
            "Iter: 57, Cost: 3.998448\n",
            "Iter: 58, Cost: 29.276764\n",
            "Iter: 59, Cost: 1.979022\n",
            "Iter: 60, Cost: 23.423443\n",
            "Iter: 61, Cost: 1.968291\n",
            "Iter: 62, Cost: 9.455004\n",
            "Iter: 63, Cost: 4.376659\n",
            "Iter: 64, Cost: 5.683903\n",
            "Iter: 65, Cost: 8.689920\n",
            "Iter: 66, Cost: 1.405936\n",
            "Iter: 67, Cost: 6.499704\n",
            "Iter: 68, Cost: 2.202232\n",
            "Iter: 69, Cost: 4.960125\n",
            "Iter: 70, Cost: 1.519249\n",
            "Iter: 71, Cost: 7.876538\n",
            "Iter: 72, Cost: 1.667570\n",
            "Iter: 73, Cost: 5.922788\n",
            "Iter: 74, Cost: 1.508626\n",
            "Iter: 75, Cost: 4.093960\n",
            "Iter: 76, Cost: 1.205018\n",
            "Iter: 77, Cost: 2.395223\n",
            "Iter: 78, Cost: 1.613805\n",
            "Iter: 79, Cost: 1.781190\n",
            "Iter: 80, Cost: 1.224452\n",
            "Iter: 81, Cost: 3.208944\n",
            "Iter: 82, Cost: 1.267996\n",
            "Iter: 83, Cost: 6.006091\n",
            "Iter: 84, Cost: 5.955966\n",
            "Iter: 85, Cost: 3.466536\n",
            "Iter: 86, Cost: 1.854285\n",
            "Iter: 87, Cost: 2.734469\n",
            "Iter: 88, Cost: 1.820094\n",
            "Iter: 89, Cost: 3.232373\n",
            "Iter: 90, Cost: 1.617615\n",
            "Iter: 91, Cost: 1.336928\n",
            "Iter: 92, Cost: 1.486891\n",
            "Iter: 93, Cost: 1.127648\n",
            "Iter: 94, Cost: 1.538939\n",
            "Iter: 95, Cost: 1.602223\n",
            "Iter: 96, Cost: 2.515660\n",
            "Iter: 97, Cost: 1.157394\n",
            "Iter: 98, Cost: 1.959381\n",
            "Iter: 99, Cost: 1.516122\n",
            "Iter: 100, Cost: 1.681024\n",
            "Iter: 101, Cost: 1.082790\n",
            "Iter: 102, Cost: 3.730072\n",
            "Iter: 103, Cost: 1.034948\n",
            "Iter: 104, Cost: 2.047975\n",
            "Iter: 105, Cost: 1.012959\n",
            "Iter: 106, Cost: 2.664986\n",
            "Iter: 107, Cost: 1.204098\n",
            "Iter: 108, Cost: 2.394036\n",
            "Iter: 109, Cost: 1.411036\n",
            "Iter: 110, Cost: 1.213519\n",
            "Iter: 111, Cost: 1.315368\n",
            "Iter: 112, Cost: 1.208100\n",
            "Iter: 113, Cost: 1.535158\n",
            "Iter: 114, Cost: 0.996330\n",
            "Iter: 115, Cost: 1.337243\n",
            "Iter: 116, Cost: 1.037857\n",
            "Iter: 117, Cost: 1.154250\n",
            "Iter: 118, Cost: 0.995779\n",
            "Iter: 119, Cost: 1.162486\n",
            "Iter: 120, Cost: 0.884899\n",
            "Iter: 121, Cost: 0.963103\n",
            "Iter: 122, Cost: 0.876602\n",
            "Iter: 123, Cost: 0.917770\n",
            "Iter: 124, Cost: 0.832583\n",
            "Iter: 125, Cost: 0.868641\n",
            "Iter: 126, Cost: 0.868193\n",
            "Iter: 127, Cost: 1.043306\n",
            "Iter: 128, Cost: 0.966744\n",
            "Iter: 129, Cost: 0.779281\n",
            "Iter: 130, Cost: 0.814391\n",
            "Iter: 131, Cost: 1.132296\n",
            "Iter: 132, Cost: 0.734536\n",
            "Iter: 133, Cost: 1.180590\n",
            "Iter: 134, Cost: 0.869011\n",
            "Iter: 135, Cost: 0.749368\n",
            "Iter: 136, Cost: 0.691373\n",
            "Iter: 137, Cost: 0.653343\n",
            "Iter: 138, Cost: 0.735841\n",
            "Iter: 139, Cost: 0.769742\n",
            "Iter: 140, Cost: 0.768018\n",
            "Iter: 141, Cost: 0.690035\n",
            "Iter: 142, Cost: 0.710554\n",
            "Iter: 143, Cost: 0.891355\n",
            "Iter: 144, Cost: 0.648057\n",
            "Iter: 145, Cost: 1.266714\n",
            "Iter: 146, Cost: 0.757044\n",
            "Iter: 147, Cost: 0.595330\n",
            "Iter: 148, Cost: 0.528071\n",
            "Iter: 149, Cost: 0.707192\n"
          ]
        }
      ]
    },
    {
      "cell_type": "markdown",
      "source": [
        "学習結果の表示"
      ],
      "metadata": {
        "id": "ypSmpD5HCOzw"
      }
    },
    {
      "cell_type": "code",
      "source": [
        "params = result.x\n",
        "y_pred_reg_final = qcl_reg(x_pred, nqubit, c_depth, params, num_shots)\n",
        "print('y_pred_reg_final:', y_pred_reg_final)"
      ],
      "metadata": {
        "colab": {
          "base_uri": "https://localhost:8080/"
        },
        "id": "DLJoTd-QA7Rj",
        "outputId": "fc6310bf-5e03-44a5-e181-01a7870453c1"
      },
      "execution_count": 348,
      "outputs": [
        {
          "output_type": "stream",
          "name": "stdout",
          "text": [
            "y_pred_reg_final: [ 0.00732422 -0.08789062 -0.16357422 -0.16259766 -0.29541016 -0.34179688\n",
            " -0.38232422 -0.47363281 -0.58349609 -0.59326172 -0.65576172 -0.67382812\n",
            " -0.76660156 -0.80712891 -0.83984375 -0.87402344 -0.89550781 -0.93115234\n",
            " -0.90087891 -0.96728516 -0.95068359 -0.94921875 -0.97265625 -0.97998047\n",
            " -1.00488281 -0.94824219 -0.97119141 -0.96386719 -0.94042969 -0.95507812\n",
            " -0.8984375  -0.87451172 -0.89794922 -0.83447266 -0.80175781 -0.76269531\n",
            " -0.74804688 -0.70068359 -0.66162109 -0.60546875 -0.60888672 -0.50878906\n",
            " -0.49511719 -0.40576172 -0.37695312 -0.32568359 -0.27001953 -0.19042969\n",
            " -0.10449219 -0.11035156 -0.01464844  0.05419922  0.14013672  0.15185547\n",
            "  0.28710938  0.28320312  0.35205078  0.390625    0.46875     0.56152344\n",
            "  0.58398438  0.62207031  0.67626953  0.77734375  0.77978516  0.85595703\n",
            "  0.84814453  0.92480469  0.95507812  1.00048828  0.97314453  1.03271484\n",
            "  1.06591797  1.08251953  1.10107422  1.09179688  1.08398438  1.10253906\n",
            "  1.12744141  1.06152344  1.07275391  1.05859375  1.03955078  1.03564453\n",
            "  0.99804688  0.90966797  0.86572266  0.84716797  0.7734375   0.70849609\n",
            "  0.64355469  0.58154297  0.55126953  0.47753906  0.36279297  0.33105469\n",
            "  0.23095703  0.14013672  0.03027344  0.00292969]\n"
          ]
        }
      ]
    },
    {
      "cell_type": "markdown",
      "source": [
        "学習結果の可視化"
      ],
      "metadata": {
        "id": "1aQhNZH7CH3m"
      }
    },
    {
      "cell_type": "code",
      "source": [
        "fig = plt.figure()\n",
        "plt.plot([i for i in range(len(costs))], costs)\n",
        "plt.xlabel('Epoch')\n",
        "plt.ylabel('Costs')\n",
        "plt.show()\n",
        "#plt.savefig('./qcl-regplot.png')"
      ],
      "metadata": {
        "colab": {
          "base_uri": "https://localhost:8080/",
          "height": 279
        },
        "id": "RKMh64pJjmKT",
        "outputId": "538d896b-3a56-4ce9-b7a9-238cdedbd29b"
      },
      "execution_count": 349,
      "outputs": [
        {
          "output_type": "display_data",
          "data": {
            "text/plain": [
              "<Figure size 432x288 with 1 Axes>"
            ],
            "image/png": "[encoded data removed]"
          },
          "metadata": {
            "needs_background": "light"
          }
        }
      ]
    },
    {
      "cell_type": "code",
      "source": [
        "fig = plt.figure()\n",
        "plt.plot(x_train, y_train, \"o\", label='Training Data (with Noise)')\n",
        "plt.plot(x_pred, y_pred_reg_init, label='Predicted result (Initial model)')\n",
        "plt.plot(x_pred, y_pred_reg_final, label='Predicted result (Final model)')\n",
        "plt.plot(x_pred, y_pred, label='Original Function')\n",
        "plt.legend()\n",
        "plt.show()\n",
        "#plt.savefig('./qcl-regplot.png')"
      ],
      "metadata": {
        "colab": {
          "base_uri": "https://localhost:8080/",
          "height": 265
        },
        "id": "sPX5pzyPBMRr",
        "outputId": "35db4da4-4643-40bb-a465-dd9596da1a51"
      },
      "execution_count": 350,
      "outputs": [
        {
          "output_type": "display_data",
          "data": {
            "text/plain": [
              "<Figure size 432x288 with 1 Axes>"
            ],
            "image/png": "[encoded data removed]"
          },
          "metadata": {
            "needs_background": "light"
          }
        }
      ]
    }
  ]
}